{
 "cells": [
  {
   "cell_type": "markdown",
   "metadata": {},
   "source": [
    "# A Note On This Notebook"
   ]
  },
  {
   "cell_type": "markdown",
   "metadata": {},
   "source": [
    "### This notebook classifies the test data for Ethos Mining into containing ethos or not. The results are not exactly the same as those reported in the paper (https://www.ijcai.org/Proceedings/2018/0562.pdf) as there is a calculation step needed which has not been included as part of this notebook. A line of code pre-process the train and test set removing some examples, these need to be factored in for the final results. See the cell containing this: \n",
    "\n",
    "test = test[test[\"NNRExtracts\"] != '[ ]' ]\n",
    "test = test[test[\"parNum\"] > 2]\n",
    "test_text = test[\"Text\"])\n",
    "\n",
    "### This code removes the first question and answer in the debate and removes utterance that did not contain a value after entity and related work extraction. "
   ]
  },
  {
   "cell_type": "code",
   "execution_count": 113,
   "metadata": {},
   "outputs": [],
   "source": [
    "from collections import Counter\n",
    "from datetime import datetime\n",
    " \n",
    "import json\n",
    " \n",
    "from keras.layers import Embedding, LSTM, Dense, Conv1D, MaxPooling1D, Dropout, Activation, Flatten\n",
    "from keras import optimizers, regularizers\n",
    "from keras.models import Sequential\n",
    "from keras.models import Model\n",
    "from keras.preprocessing.text import Tokenizer\n",
    "from keras.preprocessing.sequence import pad_sequences\n",
    "from keras.callbacks import ModelCheckpoint\n",
    "from keras.callbacks import Callback\n",
    "from sklearn.metrics import precision_recall_fscore_support\n",
    "from sklearn.metrics import precision_recall_curve\n",
    "import keras as keras\n",
    "import numpy as np\n",
    "np.random.seed(1337)\n",
    "import re\n",
    "import pandas as pd\n",
    "\n",
    "from sklearn.metrics import classification_report\n",
    "from sklearn.metrics import confusion_matrix\n",
    "\n",
    "\n",
    "\n",
    "import re\n",
    "\n",
    "from nltk import pos_tag\n",
    "from nltk.tokenize import word_tokenize\n",
    "from nltk.stem import WordNetLemmatizer\n",
    "from nltk.corpus import wordnet\n",
    "from sklearn.feature_extraction.text import CountVectorizer\n",
    "from keras.layers import Concatenate\n",
    "from keras.layers import Merge"
   ]
  },
  {
   "cell_type": "code",
   "execution_count": 84,
   "metadata": {},
   "outputs": [],
   "source": [
    "import csv\n",
    "import nltk\n",
    "from nltk import pos_tag\n",
    "from nltk.tokenize import word_tokenize\n",
    "from nltk.stem import WordNetLemmatizer\n",
    "from nltk.corpus import wordnet\n",
    "from collections import Counter\n",
    "import re\n",
    "import numpy as np\n",
    "\n",
    "from sklearn.pipeline import Pipeline\n",
    "from sklearn.pipeline import FeatureUnion\n",
    "from sklearn.metrics import classification_report\n",
    "from sklearn.metrics import confusion_matrix\n",
    "from sklearn.metrics import accuracy_score\n",
    "from sklearn.feature_extraction.text import TfidfTransformer\n",
    "#from sklearn.naive_bayes import BernoulliNB\n",
    "from sklearn.linear_model import LogisticRegression\n",
    "from sklearn.naive_bayes import MultinomialNB\n",
    "from sklearn.naive_bayes import GaussianNB\n",
    "from sklearn.svm import LinearSVC\n",
    "from sklearn.ensemble import RandomForestClassifier\n",
    "from sklearn.ensemble import VotingClassifier\n",
    "from sklearn.neighbors import KNeighborsClassifier\n",
    "from sklearn.tree import DecisionTreeClassifier\n",
    "from sklearn.svm import SVC\n",
    "from sklearn.feature_extraction import DictVectorizer\n",
    "from sklearn.feature_extraction.text import TfidfVectorizer\n",
    "from sklearn.feature_extraction.text import CountVectorizer\n",
    "from sklearn.dummy import DummyClassifier"
   ]
  },
  {
   "cell_type": "code",
   "execution_count": 85,
   "metadata": {},
   "outputs": [],
   "source": [
    "def preProcess(corpus):\n",
    "\n",
    "    for i in range(0, len(corpus)):\n",
    "        tt = corpus[\"Text\"][i]\n",
    "        tt = tt.encode('ascii', 'ignore').decode('ascii')\n",
    "        tt = str(tt)\n",
    "        tt = tt.replace(\",\", \"\")\n",
    "        tt = tt.replace(\"[\", \"\")\n",
    "        tt = tt.replace(\"]\", \"\")\n",
    "        #tt = tt.replace(\"always\", \"\")\n",
    "        #tt = tt.strip()\n",
    "        tt = tt.replace(\"''\", \"\")\n",
    "        #tt = tt.replace(\".\", \"\")  \n",
    "        tt = tt.strip()\n",
    "        tt = re.sub(\"\\d+\", \" \", tt)\n",
    "        \n",
    "        sent = tt\n",
    "        sent = sent.lower()\n",
    "        \n",
    "        sent = checkPeople(\"may\", \"\", sent, \"\")\n",
    "        sent = checkPeople(\"will\", \"\", sent, \"\")\n",
    "        sent = checkPeople(\"did\", \"\", sent, \"\")\n",
    "        sent = checkPeople(\"does\", \"\",sent, \"\")\n",
    "        sent = checkPeople(\"has\", \"\",sent, \"\")\n",
    "        sent = checkPeople(\"is\", \"\",sent, \"\")\n",
    "        sent = checkPeople(\"can\", \"\", sent, \"\")\n",
    "        sent = checkPeople(\"would\", \"\", sent, \"\")\n",
    "        sent = checkPeople(\"ask\", \"\", sent, \"\")\n",
    "        \n",
    "        sent = checkPeople(\"will not\", \"\", sent, \"\")\n",
    "        sent = checkPeople(\"does not\", \"\",sent, \"\")\n",
    "        sent = checkPeople(\"has not\", \"\",sent, \"\")\n",
    "        sent = checkPeople(\"is not\", \"\",sent, \"\")\n",
    "        sent = checkPeople(\"can not\", \"\", sent, \"\")\n",
    "        sent = checkPeople(\"would not\", \"\", sent, \"\")\n",
    "        sent = checkPeople(\"ask not\", \"\", sent, \"\")\n",
    "        \n",
    "        \n",
    "        \n",
    "        \n",
    "        sent = checkPeople(\"\", \"refers\", sent, \"\")\n",
    "        sent = checkPeople(\"\", \"refer\", sent, \"\")\n",
    "        sent = checkPeople(\"\", \"referred\", sent, \"\")\n",
    "        sent = checkPeople(\"\", \"referring\", sent, \"\")\n",
    "        \n",
    "        if not \"why have the government \" in sent:\n",
    "            \n",
    "            sent = sent.replace(\"have the government \", \"\")\n",
    "        sent = sent.replace(\"my hon. friend said\", \"\")\n",
    "        sent = sent.replace(\"my right hon. friend said\", \"\")\n",
    "        sent = sent.replace(\"my right hon. and learned friend said\", \"\")\n",
    "        sent = sent.replace(\" i \", \" \")\n",
    "        sent = sent.replace(\" the right hon. and learned\", \" \")\n",
    "        sent = sent.replace(\" the right hon.\", \" \")\n",
    "        sent = sent.replace(\" the hon.\", \" \")\n",
    "        sent = sent.replace(\"the hon.\", \" \")\n",
    "        sent = sent.replace(\"the government\", \" \")\n",
    "        sent = sent.replace(\" right hon. and learned\", \" \")\n",
    "        sent = sent.replace(\" right hon.\", \" \")\n",
    "        sent = sent.replace(\"hon.\", \" \")\n",
    "       \n",
    "        sent = sent.replace(\"gentleman\", \" \")\n",
    "        sent = sent.replace(\"gentleman's\", \" \")\n",
    "        sent = sent.replace(\"friend\", \" \")\n",
    "        sent = sent.replace(\"friend's\", \" \")\n",
    "        #sent = sent.replace(\"member\", \"\")\n",
    "        sent = sent.replace(\"'s\", \" \")\n",
    "        sent = sent.replace(\" he \", \" \")\n",
    "        sent = sent.replace(\" his \", \" \")\n",
    "        sent = sent.replace(\" her \", \" \")\n",
    "        sent = sent.replace(\" she \", \" \")\n",
    "        sent = sent.replace(\" my \", \" \")\n",
    "        sent = sent.replace(\" the minister \", \" \")\n",
    "        sent = sent.replace(\" labour \", \" \")\n",
    "        sent = sent.replace(\" conservative \", \" \")\n",
    "        sent = sent.replace(\" party \", \" \")\n",
    "        \n",
    "    \n",
    "        corpus.set_value(i,'Text',sent)"
   ]
  },
  {
   "cell_type": "code",
   "execution_count": 86,
   "metadata": {},
   "outputs": [],
   "source": [
    "def checkPeople(word, wordA, sent, replacer):\n",
    "    \n",
    "    word = word + \" \"\n",
    "   \n",
    "        \n",
    "    if not \"why \" + word + \"he \" in sent:\n",
    "        sent = sent.replace(word + \"he \" + wordA, replacer)\n",
    "    if not \"why \" + word + \"she \" in sent:\n",
    "        sent = sent.replace(word + \"she \"+ wordA, replacer)\n",
    "    if not \"why \" + word + \"the secretary \" in sent:\n",
    "        sent = sent.replace(word +\"the secretary \"+ wordA,replacer)\n",
    "    if not \"why \" + word + \"the minister \" in sent in sent:\n",
    "        sent = sent.replace(word +\"the minister \"+ wordA, replacer)\n",
    "    if not \"why \" + word + \"the under secretary \" in sent:\n",
    "        sent = sent.replace(word +\"the under secretary \"+ wordA, replacer)\n",
    "    if not \"why \" + word + \"the foreign secretary \" in sent:\n",
    "        sent = sent.replace(word +\"the foreign secretary \"+ wordA, replacer)\n",
    "    if not \"why \" + word + \"the prime minister \" in sent:\n",
    "        sent = sent.replace(word +\"the prime minister \"+ wordA, replacer)\n",
    "    if not \"why \" + word + \"the chancellor \" in sent:\n",
    "        sent = sent.replace(word +\"the chancellor \"+ wordA, replacer)\n",
    "    if not \"why \" + word + \"the hon. gentleman \" in sent:\n",
    "        sent = sent.replace(word +\"the hon. gentleman \"+ wordA, replacer)\n",
    "    if not \"why \" + word + \"the right hon. gentleman \" in sent:\n",
    "        sent = sent.replace(word +\"the right hon. gentleman \"+ wordA, replacer)\n",
    "    if not \"why \" + word + \"the right hon. and learned gentleman \" in sent:\n",
    "        sent = sent.replace(word +\"the right hon. and learned gentleman \"+ wordA, replacer)\n",
    "    if not \"why \" + word + \"the hon. lady \" in sent:\n",
    "        sent = sent.replace(word +\"the hon. lady \"+ wordA, replacer)\n",
    "    if not \"why \" + word + \"the right hon. lady \" in sent:\n",
    "        sent = sent.replace(word +\"the right hon. lady \"+ wordA, replacer)\n",
    "    if not \"why \" + word + \"the right hon. and learned lady \" in sent:\n",
    "        sent = sent.replace(word +\"the right hon. and learned lady \"+ wordA, replacer)\n",
    "    if not \"why \" + word + \"my hon. friend \" in sent:\n",
    "        sent = sent.replace(word +\"my hon. friend \"+ wordA, replacer)\n",
    "    if not \"why \" + word + \"my right hon. friend \" in sent:\n",
    "        sent = sent.replace(word +\"my right hon. friend \"+ wordA, replacer)\n",
    "    if not \"why \" + word + \"my right hon. and learned friend \" in sent:\n",
    "        sent = sent.replace(word +\"my right hon. and learned friend \"+ wordA, replacer)\n",
    "    if not \"why \" + word + \"the hon. member \" in sent:\n",
    "        sent = sent.replace(word +\"the hon. member \"+ wordA, replacer)\n",
    "    if not \"why \" + word + \"the right hon. member \" in sent:\n",
    "        sent = sent.replace(word +\"the right hon. member \"+ wordA, replacer)\n",
    "    if not \"why \" + word + \"the right hon. and learned member \" in sent:\n",
    "        sent = sent.replace(word +\"the right hon. and learned member \"+ wordA, replacer)\n",
    "    if not \"why \" + word + \"the government \" in sent:\n",
    "        sent = sent.replace(word +\"the government \"+ wordA, replacer)\n",
    "    if not \"why \" + word + \"the opposition \" in sent:\n",
    "        sent = sent.replace(word +\"the opposition \"+ wordA, replacer)\n",
    "\n",
    "\n",
    "    return sent\n",
    "\n"
   ]
  },
  {
   "cell_type": "code",
   "execution_count": 87,
   "metadata": {},
   "outputs": [],
   "source": [
    "class TestCallback(Callback):\n",
    "    def __init__(self, test_text_data, test_deps_data, test_pos_data, test_rels_data, test_sent_data):\n",
    "        self.test_text_data = test_text_data\n",
    "        self.test_deps_data = test_deps_data\n",
    "        self.test_pos_data = test_pos_data\n",
    "        self.test_rels_data = test_rels_data\n",
    "        self.test_sent_data = test_sent_data\n",
    "\n",
    "    def on_epoch_end(self, epoch, logs={}):\n",
    "        #x, y = self.test_data\n",
    "        predictions = model.predict_classes([test_text_data,test_deps_data, test_pos_data, test_rels_data, test_sent_data])\n",
    "\n",
    "        target_names = ['0', '1']\n",
    "\n",
    "        print(classification_report(test_labels, predictions, target_names=target_names))\n",
    "\n",
    "        print(confusion_matrix(test_labels, predictions))\n",
    "\n",
    "        result = precision_recall_fscore_support(test_labels, predictions, average=None)\n",
    "\n",
    "\n",
    "        filename = \"P-{}R-{}F-{}\".format(result[0][1], result[1][1], result[2][1])\n",
    "        filename = \"CNNModelTest/model-\" + str(epoch) + \"-\" + filename + \".hdf5\"\n",
    "        \n",
    "        #model.save_weights(\"CNNModelTest/model-P:{}R:{}F:{}.hdf5\".format(str(result[0][1]), str(result[1][1]), str(result[2][1])))\n",
    "        model.save_weights(filename)"
   ]
  },
  {
   "cell_type": "code",
   "execution_count": 88,
   "metadata": {},
   "outputs": [],
   "source": [
    "train = pd.read_csv(\"RorgReform.csv\", header=0, delimiter=\",\", encoding='utf-8')\n",
    "test = pd.read_csv(\"NewTestReformed.csv\", header=0, delimiter=\",\", encoding='utf-8')"
   ]
  },
  {
   "cell_type": "code",
   "execution_count": 89,
   "metadata": {},
   "outputs": [],
   "source": [
    "train = train[train[\"NNRExtracts\"] != '[ ]']\n",
    "train = train[train[\"parNum\"] > 2]\n",
    "dep = train[\"Dep\"].values"
   ]
  },
  {
   "cell_type": "code",
   "execution_count": 90,
   "metadata": {},
   "outputs": [],
   "source": [
    "train_text = train[\"Text\"]\n",
    "train_deps = train[\"Dep\"]\n",
    "train_pos = train[\"POS\"]\n",
    "train_rels = train[\"NNRExtracts\"]\n",
    "labels = train[\"IsSent\"]"
   ]
  },
  {
   "cell_type": "code",
   "execution_count": 91,
   "metadata": {},
   "outputs": [],
   "source": [
    "test = test[test[\"NNRExtracts\"] != '[ ]' ]\n",
    "test = test[test[\"parNum\"] > 2]\n",
    "test_text = test[\"Text\"]\n",
    "test_labels = test[\"IsSent\"]\n",
    "test_deps = test[\"Dep\"]\n",
    "test_pos = test[\"POS\"]\n",
    "test_rels = test[\"NNRExtracts\"]\n",
    "test = test.reset_index(drop=True)"
   ]
  },
  {
   "cell_type": "code",
   "execution_count": 92,
   "metadata": {},
   "outputs": [],
   "source": [
    "text_tokenizer = Tokenizer(num_words=50000)\n",
    "text_tokenizer.fit_on_texts(train_text)\n",
    "text_sequences = text_tokenizer.texts_to_sequences(train_text)\n",
    "text_data = pad_sequences(text_sequences, maxlen=400)\n",
    "\n",
    "\n",
    "deps_tokenizer = Tokenizer(num_words=50000)\n",
    "deps_tokenizer.fit_on_texts(train_deps)\n",
    "deps_sequences = deps_tokenizer.texts_to_sequences(train_deps)\n",
    "deps_data = pad_sequences(deps_sequences, maxlen=400)\n",
    "\n",
    "pos_tokenizer = Tokenizer(num_words=50000)\n",
    "pos_tokenizer.fit_on_texts(train_pos)\n",
    "pos_sequences = pos_tokenizer.texts_to_sequences(train_pos)\n",
    "pos_data = pad_sequences(pos_sequences, maxlen=400)\n",
    "\n",
    "rels_tokenizer = Tokenizer(num_words=50000)\n",
    "rels_tokenizer.fit_on_texts(train_rels)\n",
    "rels_sequences = rels_tokenizer.texts_to_sequences(train_rels)\n",
    "rels_data = pad_sequences(rels_sequences, maxlen=400)\n",
    "\n",
    "sent_data = train[\"SentPol\"]"
   ]
  },
  {
   "cell_type": "code",
   "execution_count": 115,
   "metadata": {},
   "outputs": [],
   "source": [
    "model1 = Sequential()\n",
    "model1.add(Embedding(5000, 128, input_length=400))\n",
    "model1.add(Dropout(0.2))\n",
    "#model1.add(Conv1D(32, 5, activation='relu'))\n",
    "model1.add(MaxPooling1D(pool_size=4))\n",
    "#model1.add(LSTM(128))\n",
    "model1.add(Flatten())\n",
    "model1.add(Dense(10,  activation='sigmoid'))\n",
    "\n",
    "model2 = Sequential()\n",
    "model2.add(Embedding(5000, 128, input_length=400))\n",
    "model2.add(Dropout(0.2))\n",
    "#model2.add(Conv1D(64, 40, activation='relu'))\n",
    "model2.add(MaxPooling1D(pool_size=4))\n",
    "model2.add(LSTM(128))\n",
    "#model2.add(Flatten())\n",
    "model2.add(Dense(10, activation='sigmoid'))\n",
    "\n",
    "model3 = Sequential()\n",
    "model3.add(Embedding(5000, 128, input_length=400))\n",
    "model3.add(Dropout(0.2))\n",
    "#model3.add(Conv1D(64, 40, activation='relu'))\n",
    "model3.add(MaxPooling1D(pool_size=4))\n",
    "#model3.add(LSTM(128))\n",
    "model3.add(Flatten())\n",
    "model3.add(Dense(10, activation='sigmoid'))\n",
    "\n",
    "model4 = Sequential()\n",
    "model4.add(Embedding(5000, 128, input_length=400))\n",
    "model4.add(Dropout(0.2))\n",
    "#model4.add(Conv1D(32, kernel_size=3, activation='relu'))\n",
    "model4.add(MaxPooling1D(pool_size=4))\n",
    "model4.add(LSTM(128))\n",
    "#model4.add(Flatten())\n",
    "model4.add(Dense(10, activation='sigmoid'))\n",
    "\n",
    "model6 = Sequential()\n",
    "model6.add(Dense(30, input_dim=1, activation='linear'))\n",
    "#model6.add(Dense(20, activation='linear'))"
   ]
  },
  {
   "cell_type": "code",
   "execution_count": 116,
   "metadata": {},
   "outputs": [],
   "source": [
    "text_sequences = text_tokenizer.texts_to_sequences(test_text)\n",
    "test_text_data = pad_sequences(text_sequences, maxlen=400)\n",
    "\n",
    "deps_sequences = deps_tokenizer.texts_to_sequences(test_deps)\n",
    "test_deps_data = pad_sequences(deps_sequences, maxlen=400)\n",
    "\n",
    "pos_sequences = pos_tokenizer.texts_to_sequences(test_pos)\n",
    "test_pos_data = pad_sequences(pos_sequences, maxlen=400)\n",
    "\n",
    "rels_sequences = rels_tokenizer.texts_to_sequences(test_rels)\n",
    "test_rels_data = pad_sequences(rels_sequences, maxlen=400)\n",
    "\n",
    "test_sent_data = test[\"NewSentPol\"]"
   ]
  },
  {
   "cell_type": "code",
   "execution_count": 117,
   "metadata": {},
   "outputs": [
    {
     "name": "stderr",
     "output_type": "stream",
     "text": [
      "/home/jupyter-rory/.local/lib/python3.6/site-packages/ipykernel_launcher.py:1: UserWarning: The `Merge` layer is deprecated and will be removed after 08/2017. Use instead layers from `keras.layers.merge`, e.g. `add`, `concatenate`, etc.\n",
      "  \"\"\"Entry point for launching an IPython kernel.\n"
     ]
    }
   ],
   "source": [
    "merged = Merge([model1,model2, model3, model4, model6], mode='concat')"
   ]
  },
  {
   "cell_type": "code",
   "execution_count": 118,
   "metadata": {},
   "outputs": [],
   "source": [
    "filepath=\"CNNWeights/weights-improvement-{epoch:02d}-{val_fmeasure:.2f}.hdf5\"\n",
    "filepath2=\"CNNFullSave/file-{epoch:02d}.hdf5\"\n",
    "checkpoint2 = ModelCheckpoint(filepath2, verbose=0, save_best_only=False, save_weights_only=False, mode='auto', period=1)\n",
    "callbacks_list = [checkpoint2, TestCallback(test_text_data, test_deps_data, test_pos_data, test_rels_data, test_sent_data)]\n"
   ]
  },
  {
   "cell_type": "code",
   "execution_count": 119,
   "metadata": {},
   "outputs": [],
   "source": [
    "model = Sequential()\n",
    "model.add(merged)\n",
    "model.add(Dropout(0.2))\n",
    "#model.add(Flatten())\n",
    "#model.add(Conv1D(32, kernel_size=2, activation='relu'))\n",
    "model.add(Dense(1,activation='sigmoid'))\n",
    "#opt = optimizers.SGD(lr=0.01)\n",
    "#opt = optimizers.Adam(lr=0.01)\n",
    "#model.compile(loss='binary_crossentropy', optimizer = opt, metrics=['binary_accuracy', 'fmeasure', 'precision', 'recall'])\n",
    "from sklearn.preprocessing import LabelEncoder\n",
    "from keras.utils import np_utils\n",
    "\n",
    "from keras.utils import plot_model\n",
    "plot_model(model, to_file='model.png', show_shapes=True)"
   ]
  },
  {
   "cell_type": "code",
   "execution_count": 120,
   "metadata": {},
   "outputs": [],
   "source": [
    "#model= Model(inputs=model.input, output=model.output)\n",
    "model.load_weights(\"model-15-P-0.5984251968503937R-0.9539748953974896F-0.7354838709677419.hdf5\")"
   ]
  },
  {
   "cell_type": "code",
   "execution_count": 121,
   "metadata": {},
   "outputs": [
    {
     "name": "stdout",
     "output_type": "stream",
     "text": [
      "469/469 [==============================] - 0s     \n",
      "              precision    recall  f1-score   support\n",
      "\n",
      "           0       0.88      0.33      0.48       230\n",
      "           1       0.60      0.95      0.74       239\n",
      "\n",
      "    accuracy                           0.65       469\n",
      "   macro avg       0.74      0.64      0.61       469\n",
      "weighted avg       0.73      0.65      0.61       469\n",
      "\n",
      "[[ 77 153]\n",
      " [ 11 228]]\n"
     ]
    }
   ],
   "source": [
    "\n",
    "model.compile(loss='binary_crossentropy', optimizer='adam', metrics=['binary_accuracy'])\n",
    "#, 'fmeasure', 'precision', 'recall'\n",
    "\n",
    "predictions = model.predict_classes([test_text_data, test_deps_data, test_pos_data, test_rels_data, test_sent_data])\n",
    "target_names = ['0', '1']\n",
    "\n",
    "print(classification_report(test_labels, predictions, target_names=target_names))\n",
    "\n",
    "print(confusion_matrix(test_labels, predictions))"
   ]
  },
  {
   "cell_type": "code",
   "execution_count": 122,
   "metadata": {},
   "outputs": [],
   "source": [
    "DMRNNproba = model.predict([test_text_data, test_deps_data, test_pos_data, test_rels_data, test_sent_data])"
   ]
  },
  {
   "cell_type": "code",
   "execution_count": 123,
   "metadata": {},
   "outputs": [],
   "source": [
    "result_table = pd.DataFrame(columns=['classifiers', 'fpr','tpr','auc'])\n",
    "pr_table = pd.DataFrame(columns=['classifiers', 'p','r','auc'])"
   ]
  },
  {
   "cell_type": "code",
   "execution_count": 124,
   "metadata": {},
   "outputs": [],
   "source": [
    "fpr, tpr, _ = roc_curve(test_labels,  DMRNNproba)\n",
    "auc = roc_auc_score(yTestlables,  DMRNNproba)\n",
    "result_table = result_table.append({'classifiers':'DMRNN',\n",
    "                                        'fpr':fpr, \n",
    "                                        'tpr':tpr, \n",
    "                                        'auc':auc}, ignore_index=True)"
   ]
  },
  {
   "cell_type": "code",
   "execution_count": 125,
   "metadata": {},
   "outputs": [],
   "source": [
    "prec, rec, _ = precision_recall_curve(test_labels,  DMRNNproba)\n",
    "auc = roc_auc_score(test_labels,  DMRNNproba)\n",
    "pr_table = pr_table.append({'classifiers':'DMRNN',\n",
    "                                        'p':prec, \n",
    "                                        'r':rec, \n",
    "                                        'auc':auc}, ignore_index=True)"
   ]
  },
  {
   "cell_type": "code",
   "execution_count": 142,
   "metadata": {},
   "outputs": [],
   "source": [
    "from sklearn.metrics import f1_score\n",
    "from numpy import arange\n",
    "from numpy import argmax"
   ]
  },
  {
   "cell_type": "code",
   "execution_count": 143,
   "metadata": {},
   "outputs": [],
   "source": [
    "thresholds = arange(0, 1, 0.001)"
   ]
  },
  {
   "cell_type": "code",
   "execution_count": 147,
   "metadata": {},
   "outputs": [],
   "source": [
    "def to_labels(pos_probs, threshold):\n",
    "    return (pos_probs >= threshold).astype('int')"
   ]
  },
  {
   "cell_type": "code",
   "execution_count": 148,
   "metadata": {},
   "outputs": [],
   "source": [
    "scores = [f1_score(test_labels, to_labels(DMRNNproba, t)) for t in thresholds]"
   ]
  },
  {
   "cell_type": "code",
   "execution_count": 149,
   "metadata": {},
   "outputs": [
    {
     "name": "stdout",
     "output_type": "stream",
     "text": [
      "Threshold=0.509, F-Score=0.73701\n"
     ]
    }
   ],
   "source": [
    "ix = argmax(scores)\n",
    "print('Threshold=%.3f, F-Score=%.5f' % (thresholds[ix], scores[ix]))"
   ]
  },
  {
   "cell_type": "code",
   "execution_count": 126,
   "metadata": {},
   "outputs": [],
   "source": [
    "from sklearn.base import TransformerMixin, BaseEstimator\n",
    "\n",
    "class ItemSelector(BaseEstimator, TransformerMixin):\n",
    "    def __init__(self, key):\n",
    "        \n",
    "        self.key = key\n",
    "        \n",
    "\n",
    "    def fit(self, x, y=None):\n",
    "        return self\n",
    "\n",
    "    def transform(self, data_dict):\n",
    "        return data_dict[self.key]\n",
    "\n",
    "class NumberSelector(BaseEstimator, TransformerMixin):\n",
    "\n",
    "    def __init__(self, key):\n",
    "        self.key = key\n",
    "\n",
    "    def fit(self, X, y=None):\n",
    "        return self\n",
    "\n",
    "    def transform(self, X):\n",
    "        return X[[self.key]]\n",
    "\n",
    "class DenseTransformer(TransformerMixin):\n",
    "\n",
    "    def transform(self, X, y=None, **fit_params):\n",
    "        return X.todense()\n",
    "\n",
    "    def fit_transform(self, X, y=None, **fit_params):\n",
    "        self.fit(X, y, **fit_params)\n",
    "        return self.transform(X)\n",
    "\n",
    "    def fit(self, X, y=None, **fit_params):\n",
    "        return self\n",
    "\n",
    "#############################################################################\n",
    "\n",
    "\n",
    "\n",
    "############# Create pipeline consisting of feature pipelines ##########################\n",
    "\n",
    "pipeline5 = Pipeline([\n",
    "    ('features', FeatureUnion([\n",
    "        ('ngram', Pipeline([\n",
    "            ('selector', ItemSelector(key='Text')),\n",
    "            ('vectorizer', CountVectorizer(ngram_range=(1,3), stop_words=\"english\", lowercase=True)),\n",
    "        ])),\n",
    "        # ('ngram_Dep', Pipeline([\n",
    "            # ('selector', ItemSelector(key='DEPS')),\n",
    "            # #('vectorizer', CountVectorizer(ngram_range=(1,12))),\n",
    "            # ('tfidf_transformer',  TfidfVectorizer(ngram_range=(2,3)))\n",
    "        # ])), \n",
    "        # ('ngram_POS', Pipeline([\n",
    "            # ('selector', ItemSelector(key='POS')),\n",
    "            # #('vectorizer', CountVectorizer(ngram_range=(1,12))),\n",
    "            # ('tfidf_transformer',  TfidfVectorizer(ngram_range=(1,3)))\n",
    "        # ])), \n",
    "        # ('Sent', Pipeline([\n",
    "            # ('selector', NumberSelector(key='Sent')),\n",
    "            # ('standard', StandardScaler())\n",
    "        # ])), \n",
    "    ],\n",
    "    \n",
    "    )),\n",
    "    #])\n",
    "    #('classifier',  DecisionTreeClassifier(max_depth=550, criterion=\"entropy\")) ])\n",
    "    #('classifier',  LinearSVC(C=0.1, verbose = 2, max_iter=2000)) ])\n",
    "    #('classifier', MultinomialNB())])\n",
    "    #('classifier', GaussianNB())])\n",
    "    1('classifier',  LogisticRegression()) ])\n",
    "    #('classifier', DecisionTreeClassifier(max_depth=8)) ])\n",
    "    #('classifier',  SVC()) ])\n",
    "    #('classifier',  DummyClassifier()) ])\n",
    "    #SVC(kernel='linear', probability=True, verbose=2))\n",
    "    #, C=100000\n",
    "    #('classifier',  SVC(kernel='linear', C=1)) ])\n",
    "    #('classifier',  RandomForestClassifier(max_depth=10000, random_state=0)) ])\n",
    "    #('classifier',  RandomForestClassifier(max_depth=60, min_samples_leaf=3)) ])\n"
   ]
  },
  {
   "cell_type": "code",
   "execution_count": 127,
   "metadata": {},
   "outputs": [],
   "source": [
    "model = pipeline5.fit(train, train[\"IsSent\"])"
   ]
  },
  {
   "cell_type": "code",
   "execution_count": 128,
   "metadata": {},
   "outputs": [
    {
     "name": "stdout",
     "output_type": "stream",
     "text": [
      "[[  1 229]\n",
      " [  2 237]]\n",
      "              precision    recall  f1-score   support\n",
      "\n",
      "           0       0.33      0.00      0.01       230\n",
      "           1       0.51      0.99      0.67       239\n",
      "\n",
      "    accuracy                           0.51       469\n",
      "   macro avg       0.42      0.50      0.34       469\n",
      "weighted avg       0.42      0.51      0.35       469\n",
      "\n"
     ]
    }
   ],
   "source": [
    "predictions = model.predict(test)\n",
    "yproba = model.predict_proba(test)[::,1]\n",
    "\n",
    "### use numerical target names: 0 = NONE, 1 = FAVOR, 2 = AGAINST\n",
    " \n",
    "target_names = ['0', '1']\n",
    "\n",
    "print(confusion_matrix(test[\"IsSent\"], predictions))\n",
    "\n",
    "print(classification_report(test[\"IsSent\"], predictions, target_names=target_names))"
   ]
  },
  {
   "cell_type": "code",
   "execution_count": 129,
   "metadata": {},
   "outputs": [],
   "source": [
    "from sklearn.metrics import roc_curve, roc_auc_score\n",
    "import matplotlib.pyplot as plt"
   ]
  },
  {
   "cell_type": "code",
   "execution_count": 130,
   "metadata": {},
   "outputs": [],
   "source": [
    "yTestlables = test[\"IsSent\"]"
   ]
  },
  {
   "cell_type": "code",
   "execution_count": 131,
   "metadata": {},
   "outputs": [
    {
     "data": {
      "text/plain": [
       "0      0\n",
       "1      0\n",
       "2      0\n",
       "3      0\n",
       "4      0\n",
       "      ..\n",
       "464    1\n",
       "465    1\n",
       "466    1\n",
       "467    1\n",
       "468    1\n",
       "Name: IsSent, Length: 469, dtype: int64"
      ]
     },
     "execution_count": 131,
     "metadata": {},
     "output_type": "execute_result"
    }
   ],
   "source": [
    "yTestlables"
   ]
  },
  {
   "cell_type": "code",
   "execution_count": 132,
   "metadata": {},
   "outputs": [],
   "source": [
    "fpr, tpr, _ = roc_curve(yTestlables,  yproba)\n",
    "auc = roc_auc_score(yTestlables,  yproba)\n",
    "result_table = result_table.append({'classifiers':'LR',\n",
    "                                        'fpr':fpr, \n",
    "                                        'tpr':tpr, \n",
    "                                        'auc':auc}, ignore_index=True)"
   ]
  },
  {
   "cell_type": "code",
   "execution_count": 133,
   "metadata": {},
   "outputs": [],
   "source": [
    "prec, rec, _ = precision_recall_curve(test_labels,  yproba)\n",
    "auc = roc_auc_score(test_labels,  yproba)\n",
    "pr_table = pr_table.append({'classifiers':'LR',\n",
    "                                        'p':prec, \n",
    "                                        'r':rec, \n",
    "                                        'auc':auc}, ignore_index=True)"
   ]
  },
  {
   "cell_type": "code",
   "execution_count": null,
   "metadata": {},
   "outputs": [],
   "source": []
  },
  {
   "cell_type": "code",
   "execution_count": null,
   "metadata": {},
   "outputs": [],
   "source": []
  },
  {
   "cell_type": "code",
   "execution_count": 134,
   "metadata": {},
   "outputs": [],
   "source": [
    "\n",
    "\n",
    "# Set name of the classifiers as index labels\n",
    "result_table.set_index('classifiers', inplace=True)\n",
    "pr_table.set_index('classifiers', inplace=True)"
   ]
  },
  {
   "cell_type": "code",
   "execution_count": 135,
   "metadata": {},
   "outputs": [
    {
     "data": {
      "text/plain": [
       "<matplotlib.legend.Legend at 0x7f75581b2fd0>"
      ]
     },
     "execution_count": 135,
     "metadata": {},
     "output_type": "execute_result"
    },
    {
     "data": {
      "image/png": "[encoded data removed]",
      "text/plain": [
       "<Figure size 576x432 with 1 Axes>"
      ]
     },
     "metadata": {
      "needs_background": "light"
     },
     "output_type": "display_data"
    }
   ],
   "source": [
    "fig = plt.figure(figsize=(8,6))\n",
    "\n",
    "for i in result_table.index:\n",
    "    plt.plot(result_table.loc[i]['fpr'], \n",
    "             result_table.loc[i]['tpr'], \n",
    "             label=\"{}, AUC={:.3f}\".format(i, result_table.loc[i]['auc']))\n",
    "    \n",
    "plt.plot([0,1], [0,1], color='orange', linestyle='--')\n",
    "\n",
    "plt.xticks(np.arange(0.0, 1.1, step=0.1))\n",
    "plt.xlabel(\"False Positive Rate\", fontsize=15)\n",
    "\n",
    "plt.yticks(np.arange(0.0, 1.1, step=0.1))\n",
    "plt.ylabel(\"True Positive Rate\", fontsize=15)\n",
    "\n",
    "plt.title('ROC Curve Analysis', fontweight='bold', fontsize=15)\n",
    "plt.legend(prop={'size':13}, loc='lower right')"
   ]
  },
  {
   "cell_type": "code",
   "execution_count": 139,
   "metadata": {},
   "outputs": [
    {
     "data": {
      "text/plain": [
       "<matplotlib.legend.Legend at 0x7f75328eab00>"
      ]
     },
     "execution_count": 139,
     "metadata": {},
     "output_type": "execute_result"
    },
    {
     "data": {
      "image/png": "[encoded data removed]",
      "text/plain": [
       "<Figure size 576x432 with 1 Axes>"
      ]
     },
     "metadata": {
      "needs_background": "light"
     },
     "output_type": "display_data"
    }
   ],
   "source": [
    "fig = plt.figure(figsize=(8,6))\n",
    "\n",
    "for i in pr_table.index:\n",
    "    plt.plot(pr_table.loc[i]['r'], \n",
    "             pr_table.loc[i]['p'], \n",
    "             label=\"{}, AUC={:.3f}\".format(i, pr_table.loc[i]['auc']))\n",
    "    \n",
    "\n",
    "plt.xticks(np.arange(0.0, 1.1, step=0.1))\n",
    "plt.xlabel(\"Recall\", fontsize=15)\n",
    "\n",
    "plt.yticks(np.arange(0.0, 1.1, step=0.1))\n",
    "plt.ylabel(\"Precision\", fontsize=15)\n",
    "\n",
    "plt.title('Prec Rec Curve', fontweight='bold', fontsize=15)\n",
    "plt.legend(prop={'size':13}, loc='lower right')"
   ]
  }
 ],
 "metadata": {
  "kernelspec": {
   "display_name": "python_2020",
   "language": "python",
   "name": "python_2020"
  },
  "language_info": {
   "codemirror_mode": {
    "name": "ipython",
    "version": 3
   },
   "file_extension": ".py",
   "mimetype": "text/x-python",
   "name": "python",
   "nbconvert_exporter": "python",
   "pygments_lexer": "ipython3",
   "version": "3.6.10"
  }
 },
 "nbformat": 4,
 "nbformat_minor": 4
}
